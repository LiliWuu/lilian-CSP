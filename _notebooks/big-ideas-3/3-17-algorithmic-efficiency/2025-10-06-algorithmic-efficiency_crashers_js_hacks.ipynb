{
 "cells": [
  {
   "cell_type": "raw",
   "id": "4e3e77eb",
   "metadata": {
    "vscode": {
     "languageId": "raw"
    }
   },
   "source": [
    "---\n",
    "layout: post\n",
    "title: \"Crashers - 3.17 Algorithmic Efficiency Javascript Hacks\"\n",
    "categories: [Javascript]\n",
    "tags: [python, javascript, algorithms, lesson, beginner]\n",
    "description: Learn about algorithms and how they can be more or less efficient\n",
    "permalink: /javascript/algorithmic-efficiency/crashers-hw\n",
    "---"
   ]
  },
  {
   "cell_type": "markdown",
   "id": "825f983c",
   "metadata": {},
   "source": [
    "## Algorithmic Efficiency Hacks: Javascript\n",
    "\n",
    "Let's test your knowledge on algorithmic efficiency!\n",
    "\n",
    "### Hack 1: How Much Time?\n",
    "\n",
    "#### Objective: write the time complexity of the algorithm below using Big-O notation.\n",
    "(don't worry about special cases such as n = 1 or n = 0)."
   ]
  },
  {
   "cell_type": "code",
   "execution_count": 2,
   "id": "1fc4bcce",
   "metadata": {
    "vscode": {
     "languageId": "javascript"
    }
   },
   "outputs": [
    {
     "data": {
      "application/javascript": "let n = 10; // change this value to test different outputs!\n\nfor (let i = 0; i < n * 2; i++) {\n    console.log(i);\n}\n\n//TODO: print the above algorithm's time complexity\n\nconsole.log(\"O(n) linear time complexity\");\n//BE CAREFUL - This one might trick some people. Remember that Big-O notation shows how much an algorithm's time complexity GROWS, so coefficients don't matter...\n",
      "text/plain": [
       "<IPython.core.display.Javascript object>"
      ]
     },
     "metadata": {},
     "output_type": "display_data"
    }
   ],
   "source": [
    "%%javascript\n",
    "let n = 10; // change this value to test different outputs!\n",
    "\n",
    "for (let i = 0; i < n * 2; i++) {\n",
    "    console.log(i);\n",
    "}\n",
    "\n",
    "//TODO: print the above algorithm's time complexity\n",
    "\n",
    "console.log(\"O(n) linear time complexity\");\n",
    "//BE CAREFUL - This one might trick some people. Remember that Big-O notation shows how much an algorithm's time complexity GROWS, so coefficients don't matter..."
   ]
  },
  {
   "cell_type": "markdown",
   "id": "4e562838",
   "metadata": {},
   "source": [
    "### Hack 2: Your Turn!\n",
    "\n",
    "#### Objective: <strong>write</strong> an algorithm with O(n^2) time complexity."
   ]
  },
  {
   "cell_type": "code",
   "execution_count": 4,
   "id": "f9394969",
   "metadata": {
    "vscode": {
     "languageId": "javascript"
    }
   },
   "outputs": [
    {
     "data": {
      "application/javascript": "const n = 10; // change this if you want.\n\n//TODO: Write an algorithm with O(n^2) time complexity\nlet counter = 0;\nfor (let i = 0; i < n; i++) {\n    for (let j = 0; j < n; j++) {\n        counter++;\n        console.log(counter);\n    }\n}\n//Hint: think about nested loops...\n",
      "text/plain": [
       "<IPython.core.display.Javascript object>"
      ]
     },
     "metadata": {},
     "output_type": "display_data"
    }
   ],
   "source": [
    "%%javascript\n",
    "const n = 10; // change this if you want.\n",
    "\n",
    "//TODO: Write an algorithm with O(n^2) time complexity\n",
    "let counter = 0;\n",
    "for (let i = 0; i < n; i++) {\n",
    "    for (let j = 0; j < n; j++) {\n",
    "        counter++;\n",
    "        console.log(counter);\n",
    "    }\n",
    "}\n",
    "//Hint: think about nested loops..."
   ]
  },
  {
   "cell_type": "markdown",
   "id": "26d353f3",
   "metadata": {},
   "source": [
    "### Hack 3: Gotta Go Fast!\n",
    "\n",
    "#### Objective: Optimize this algorithm so that it has a lower time complexity <strong>without modifying the outer loop</strong>"
   ]
  },
  {
   "cell_type": "code",
   "execution_count": 4,
   "id": "83acbe82",
   "metadata": {
    "vscode": {
     "languageId": "javascript"
    }
   },
   "outputs": [
    {
     "data": {
      "application/javascript": "const n = 45; // change this\nlet count = 0;\n\nfor(let i = 0; i < n; i++){ //Outer loop, DO NOT MODIFY\n    count++;\n}\nconsole.log(count);\n\n//TODO: Modify the algorithm so that it has a lower time complexity but same output, and keep the outer loop the same\n//Hint: This algorithm has a time complexity of O(n^2).\n",
      "text/plain": [
       "<IPython.core.display.Javascript object>"
      ]
     },
     "metadata": {},
     "output_type": "display_data"
    }
   ],
   "source": [
    "%%javascript\n",
    "const n = 45; // change this\n",
    "let count = 0;\n",
    "\n",
    "for(let i = 0; i < n; i++){ //Outer loop, DO NOT MODIFY\n",
    "    count++;\n",
    "}\n",
    "console.log(count);\n",
    "\n",
    "//TODO: Modify the algorithm so that it has a lower time complexity but same output, and keep the outer loop the same\n",
    "//Hint: This algorithm has a time complexity of O(n^2)."
   ]
  },
  {
   "cell_type": "code",
   "execution_count": null,
   "id": "87c33c6e",
   "metadata": {
    "vscode": {
     "languageId": "javascript"
    }
   },
   "outputs": [
    {
     "data": {
      "application/javascript": "let arr = [1, 4, 7, 10, 14];\nlet target = 4;\n\nlet low = 0;\nlet high = arr.length - 1;\nlet targetIndex = -1; \n\nwhile (low <= high) {\n    let mid = Math.floor((low + high) / 2);\n\n    if (arr[mid] === target) {\n        targetIndex = mid;\n        break; \n    } else if (target < arr[mid]) {\n        high = mid - 1; \n    } else {\n        low = mid + 1;\n    }\n}\n\nconsole.log(targetIndex);\n",
      "text/plain": [
       "<IPython.core.display.Javascript object>"
      ]
     },
     "metadata": {},
     "output_type": "display_data"
    }
   ],
   "source": [
    "%%js\n",
    "\n",
    "// TODO: Write an algorithm that has a more complicated time complexity than O(n^x).\n",
    "\n",
    "// O(log n) Time complexity\n",
    "let arr = [1, 4, 7, 10, 14];\n",
    "let target = 4;\n",
    "\n",
    "let low = 0;\n",
    "let high = arr.length - 1;\n",
    "let targetIndex = -1; \n",
    "\n",
    "while (low <= high) {\n",
    "    let mid = Math.floor((low + high) / 2);\n",
    "\n",
    "    if (arr[mid] === target) {\n",
    "        targetIndex = mid;\n",
    "        break; \n",
    "    } else if (target < arr[mid]) {\n",
    "        high = mid - 1; \n",
    "    } else {\n",
    "        low = mid + 1;\n",
    "    }\n",
    "}\n",
    "\n",
    "console.log(targetIndex);\n"
   ]
  }
 ],
 "metadata": {
  "kernelspec": {
   "display_name": "venv",
   "language": "python",
   "name": "python3"
  },
  "language_info": {
   "codemirror_mode": {
    "name": "ipython",
    "version": 3
   },
   "file_extension": ".py",
   "mimetype": "text/x-python",
   "name": "python",
   "nbconvert_exporter": "python",
   "pygments_lexer": "ipython3",
   "version": "3.11.5"
  }
 },
 "nbformat": 4,
 "nbformat_minor": 5
}
