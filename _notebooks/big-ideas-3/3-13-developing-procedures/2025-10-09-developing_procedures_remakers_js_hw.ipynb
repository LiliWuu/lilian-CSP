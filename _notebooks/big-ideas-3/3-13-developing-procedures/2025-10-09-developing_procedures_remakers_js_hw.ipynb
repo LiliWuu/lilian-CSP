{
 "cells": [
  {
   "cell_type": "raw",
   "id": "347e901f",
   "metadata": {
    "vscode": {
     "languageId": "raw"
    }
   },
   "source": [
    "---\n",
    "toc: true\n",
    "layout: post\n",
    "categories: [JavaScript]\n",
    "title: Remakers - 3.13 Developing Procedures JS Hacks\n",
    "description: \"Apply your skills to basic procedure development in Javascript.\"\n",
    "permalink: /javascript/developing-procedures/remakers-hw\n",
    "author: Krishna Visvanath, Sloane Sommers\n",
    "---"
   ]
  },
  {
   "cell_type": "markdown",
   "id": "38483feb",
   "metadata": {
    "vscode": {
     "languageId": "raw"
    }
   },
   "source": [
    "### Q1 (Easy)\n",
    "Which of these procedures is named wrong, provide a **short** explanation of justification"
   ]
  },
  {
   "cell_type": "markdown",
   "id": "690e6f19",
   "metadata": {},
   "source": [
    "function mixIngredients()\n",
    "\n",
    "function doIt()\n",
    "\n",
    "function makeLeftTurn()"
   ]
  },
  {
   "cell_type": "markdown",
   "id": "bff45a3e",
   "metadata": {},
   "source": [
    "**Explanation Here:**\n",
    "The function doIt() does not follow good naming conventions because it is vague and not specific about what the function does. "
   ]
  },
  {
   "cell_type": "markdown",
   "id": "e5480b09",
   "metadata": {},
   "source": [
    "### Q2 (Medium)\n",
    "Finish the code to have a correctly named procedure"
   ]
  },
  {
   "cell_type": "code",
   "execution_count": 5,
   "id": "4bc531e4",
   "metadata": {
    "vscode": {
     "languageId": "javascript"
    }
   },
   "outputs": [
    {
     "data": {
      "application/javascript": "function makeLeftTurn() {\n    moveForward() ;\n    rotate180() ;\n    moveForwardAgain() ;\n}\n//Todo: add corresponding procedure definitions\nfunction moveForward() {\nconsole.log(\"Moving forward.\");\n}\n\nfunction rotate180() {\nconsole.log(\"Turning left\");\n}\n\nfunction moveForwardAgain() {\nconsole.log(\"Moving forward again to complete left turn.\");\n}\n//Run the procedure\nmakeLeftTurn()\n",
      "text/plain": [
       "<IPython.core.display.Javascript object>"
      ]
     },
     "metadata": {},
     "output_type": "display_data"
    }
   ],
   "source": [
    "%%js\n",
    "function makeLeftTurn() {\n",
    "    moveForward() ;\n",
    "    rotate180() ;\n",
    "    moveForwardAgain() ;\n",
    "}\n",
    "//Todo: add corresponding procedure definitions\n",
    "function moveForward() {\n",
    "console.log(\"Moving forward.\");\n",
    "}\n",
    "\n",
    "function rotate180() {\n",
    "console.log(\"Turning left\");\n",
    "}\n",
    "\n",
    "function moveForwardAgain() {\n",
    "console.log(\"Moving forward again to complete left turn.\");\n",
    "}\n",
    "//Run the procedure\n",
    "makeLeftTurn()"
   ]
  },
  {
   "cell_type": "markdown",
   "id": "d6c06eb0",
   "metadata": {
    "vscode": {
     "languageId": "javascript"
    }
   },
   "source": [
    "### Q3 (Hard)\n",
    "Write code to fulfill the requirements\n",
    "Doing a dance! 🕺💃\n",
    "Must have\n",
    "1. A shimmy left procedure\n",
    "- Print `super cool left slide`\n",
    "2. A shimmy right procedure, print `even cooler right slide`\n",
    "3. Doing a bow to the crowd, print `Great dance!`, `the audience claps at your bow!`"
   ]
  },
  {
   "cell_type": "code",
   "execution_count": 7,
   "id": "818139d1",
   "metadata": {
    "vscode": {
     "languageId": "javascript"
    }
   },
   "outputs": [
    {
     "data": {
      "application/javascript": "//Code away!\nfunction shimyLeft() {\n    console.log(\"Super cool left slide\");\n} \n\nfunction shimyRight() {\n    console.log(\"Even cooler right slide\");\n}\n\nfunction bowToCrowd() {\n    console.log(\"Great dance!\");\n    console.log(\"The audience claps at your bow!\");\n}\n\nshimyLeft();\nshimyRight();\nbowToCrowd();\n",
      "text/plain": [
       "<IPython.core.display.Javascript object>"
      ]
     },
     "metadata": {},
     "output_type": "display_data"
    }
   ],
   "source": [
    "%%js\n",
    "//Code away!\n",
    "function shimyLeft() {\n",
    "    console.log(\"Super cool left slide\");\n",
    "} \n",
    "\n",
    "function shimyRight() {\n",
    "    console.log(\"Even cooler right slide\");\n",
    "}\n",
    "\n",
    "function bowToCrowd() {\n",
    "    console.log(\"Great dance!\");\n",
    "    console.log(\"The audience claps at your bow!\");\n",
    "}\n",
    "\n",
    "shimyLeft();\n",
    "shimyRight();\n",
    "bowToCrowd();"
   ]
  }
 ],
 "metadata": {
  "kernelspec": {
   "display_name": "venv",
   "language": "python",
   "name": "python3"
  },
  "language_info": {
   "codemirror_mode": {
    "name": "ipython",
    "version": 3
   },
   "file_extension": ".py",
   "mimetype": "text/x-python",
   "name": "python",
   "nbconvert_exporter": "python",
   "pygments_lexer": "ipython3",
   "version": "3.11.5"
  }
 },
 "nbformat": 4,
 "nbformat_minor": 5
}
