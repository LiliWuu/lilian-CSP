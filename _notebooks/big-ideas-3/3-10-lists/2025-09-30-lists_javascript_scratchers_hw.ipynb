{
 "cells": [
  {
   "cell_type": "raw",
   "id": "cae8bc40",
   "metadata": {
    "vscode": {
     "languageId": "raw"
    }
   },
   "source": [
    "---\n",
    "layout: post\n",
    "title: Lists Hacks Javascript\n",
    "description: This is a CSP Hacks notebook based on the lists lesson\n",
    "comments: true\n",
    "permalink: /csp/big-idea-3/<lists>/<4>/javascript_hw\n",
    "---"
   ]
  },
  {
   "cell_type": "markdown",
   "id": "44bdd529",
   "metadata": {},
   "source": [
    "# Javascript Lists Homework"
   ]
  },
  {
   "cell_type": "markdown",
   "id": "6a975112",
   "metadata": {},
   "source": [
    "- After going through the lists lesson work on these hacks in your own repository"
   ]
  },
  {
   "cell_type": "markdown",
   "id": "4b1ccc5c",
   "metadata": {},
   "source": [
    "### Hack 1 – Add Up Numbers\n",
    "\n",
    "Make a list of numbers. Write code to:\n",
    "1. Find the total sum.\n",
    "2. Find the average."
   ]
  },
  {
   "cell_type": "code",
   "execution_count": 4,
   "id": "9fc29a1a",
   "metadata": {
    "vscode": {
     "languageId": "javascript"
    }
   },
   "outputs": [
    {
     "data": {
      "application/javascript": "// Hack 1 – Add Up Numbers\nlet numbers = [4, 7, 1, 9, 6, 7, 10];\nlet sum = 0;\n// Write your code here:\nfor(let number of numbers) {\n    sum+=number;\n}\n\nlet average = sum / numbers.length;\nconsole.log(\"Sum: \" + sum, \"Average: \" + average);\n",
      "text/plain": [
       "<IPython.core.display.Javascript object>"
      ]
     },
     "metadata": {},
     "output_type": "display_data"
    }
   ],
   "source": [
    "%%js\n",
    "// Hack 1 – Add Up Numbers\n",
    "let numbers = [4, 7, 1, 9, 6, 7, 10];\n",
    "let sum = 0;\n",
    "// Write your code here:\n",
    "for(let number of numbers) {\n",
    "    sum+=number;\n",
    "}\n",
    "\n",
    "let average = sum / numbers.length;\n",
    "console.log(\"Sum: \" + sum, \"Average: \" + average);"
   ]
  },
  {
   "cell_type": "markdown",
   "id": "519b9811",
   "metadata": {},
   "source": [
    "### Hack 2 – Count Repeats\n",
    "\n",
    "Make a list with repeated items. Write code to count how many times each item appears."
   ]
  },
  {
   "cell_type": "code",
   "execution_count": 6,
   "id": "b9e989ea",
   "metadata": {
    "vscode": {
     "languageId": "javascript"
    }
   },
   "outputs": [
    {
     "data": {
      "application/javascript": "// Hack 2 – Count Repeats\nlet items = [\"cat\", \"dog\", \"cat\", \"bird\", \"bird\", \"bird\"];\n\n// Write your code here:\n\nlet frequency = {};\n\nfor (let item of items) {\n    if(frequency[item]) {\n        frequency[item]++;\n    } else {\n        frequency[item] = 1;\n    }\n}   \nconsole.log(frequency)\n\n",
      "text/plain": [
       "<IPython.core.display.Javascript object>"
      ]
     },
     "metadata": {},
     "output_type": "display_data"
    }
   ],
   "source": [
    "%%js\n",
    "// Hack 2 – Count Repeats\n",
    "let items = [\"cat\", \"dog\", \"cat\", \"bird\", \"bird\", \"bird\"];\n",
    "\n",
    "// Write your code here:\n",
    "\n",
    "let frequency = {};\n",
    "\n",
    "for (let item of items) {\n",
    "    if(frequency[item]) {\n",
    "        frequency[item]++;\n",
    "    } else {\n",
    "        frequency[item] = 1;\n",
    "    }\n",
    "}   \n",
    "console.log(frequency)\n",
    "\n"
   ]
  },
  {
   "cell_type": "markdown",
   "id": "800ed729",
   "metadata": {},
   "source": [
    "### Hack 3 – Keep Only Evens\n",
    "\n",
    "Make a list of numbers. Write code to create a new list with only even numbers."
   ]
  },
  {
   "cell_type": "code",
   "execution_count": 12,
   "id": "4f7fc860",
   "metadata": {
    "vscode": {
     "languageId": "javascript"
    }
   },
   "outputs": [
    {
     "data": {
      "application/javascript": "// Hack 3 – Keep Only Evens\nlet numbers = [3, 8, 5, 12, 7, 9, 13, 31, 66, 18];\n\n// Write your code here:\nlet evenNumbers = [];\nfor (let number of numbers) {\n    if (number % 2 == 0) {\n        evenNumbers.push(number);\n    }\n}\nconsole.log(evenNumbers);\n",
      "text/plain": [
       "<IPython.core.display.Javascript object>"
      ]
     },
     "metadata": {},
     "output_type": "display_data"
    }
   ],
   "source": [
    "%%js\n",
    "// Hack 3 – Keep Only Evens\n",
    "let numbers = [3, 8, 5, 12, 7, 9, 13, 31, 66, 18];\n",
    "\n",
    "// Write your code here:\n",
    "let evenNumbers = [];\n",
    "for (let number of numbers) {\n",
    "    if (number % 2 == 0) {\n",
    "        evenNumbers.push(number);\n",
    "    }\n",
    "}\n",
    "console.log(evenNumbers);\n"
   ]
  }
 ],
 "metadata": {
  "kernelspec": {
   "display_name": "venv",
   "language": "python",
   "name": "python3"
  },
  "language_info": {
   "codemirror_mode": {
    "name": "ipython",
    "version": 3
   },
   "file_extension": ".py",
   "mimetype": "text/x-python",
   "name": "python",
   "nbconvert_exporter": "python",
   "pygments_lexer": "ipython3",
   "version": "3.11.5"
  }
 },
 "nbformat": 4,
 "nbformat_minor": 5
}
