{
 "cells": [
  {
   "cell_type": "raw",
   "id": "cae8bc40",
   "metadata": {
    "vscode": {
     "languageId": "raw"
    }
   },
   "source": [
    "---\n",
    "layout: post\n",
    "title: Lists Hacks Javascript\n",
    "description: This is a CSP Hacks notebook based on the lists lesson\n",
    "comments: true\n",
    "permalink: /csp/big-idea-3/<lists>/<4>/javascript_hw\n",
    "---"
   ]
  },
  {
   "cell_type": "markdown",
   "id": "44bdd529",
   "metadata": {},
   "source": [
    "# Javascript Lists Homework"
   ]
  },
  {
   "cell_type": "markdown",
   "id": "6a975112",
   "metadata": {},
   "source": [
    "- After going through the lists lesson work on these hacks in your own repository"
   ]
  },
  {
   "cell_type": "markdown",
   "id": "4b1ccc5c",
   "metadata": {},
   "source": [
    "### Hack 1 – Add Up Numbers\n",
    "\n",
    "Make a list of numbers. Write code to:\n",
    "1. Find the total sum.\n",
    "2. Find the average."
   ]
  },
  {
   "cell_type": "code",
   "execution_count": 1,
   "id": "9fc29a1a",
   "metadata": {
    "vscode": {
     "languageId": "html"
    }
   },
   "outputs": [
    {
     "data": {
      "text/html": [
       "<div id=\"js-output\"></div>\n",
       "<script>\n",
       "  const numbers = [4, 7, 1, 9, 6, 7, 10];\n",
       "  let sum = 0;\n",
       "  for (const n of numbers) sum += n;\n",
       "  const average = sum / numbers.length;\n",
       "  document.getElementById('js-output').textContent = `Sum: ${sum} — Average: ${average}`;\n",
       "</script>\n"
      ],
      "text/plain": [
       "<IPython.core.display.HTML object>"
      ]
     },
     "metadata": {},
     "output_type": "display_data"
    }
   ],
   "source": [
    "%%html\n",
    "<div id=\"js-output\"></div>\n",
    "<script>\n",
    "  const numbers = [4, 7, 1, 9, 6, 7, 10];\n",
    "  let sum = 0;\n",
    "  for (const n of numbers) sum += n;\n",
    "  const average = sum / numbers.length;\n",
    "  document.getElementById('js-output').textContent = `Sum: ${sum} — Average: ${average}`;\n",
    "</script>\n"
   ]
  },
  {
   "cell_type": "markdown",
   "id": "519b9811",
   "metadata": {},
   "source": [
    "### Hack 2 – Count Repeats\n",
    "\n",
    "Make a list with repeated items. Write code to count how many times each item appears."
   ]
  },
  {
   "cell_type": "code",
   "execution_count": 2,
   "id": "b9e989ea",
   "metadata": {
    "vscode": {
     "languageId": "html"
    }
   },
   "outputs": [
    {
     "data": {
      "text/html": [
       "<div id=\"hack2-output\"></div>\n",
       "<script>\n",
       "  const items = [\"cat\", \"dog\", \"cat\", \"bird\", \"bird\", \"bird\"];\n",
       "  const frequency = {};\n",
       "\n",
       "  for (const item of items) {\n",
       "    if (frequency[item]) {\n",
       "      frequency[item]++;\n",
       "    } else {\n",
       "      frequency[item] = 1;\n",
       "    }\n",
       "  }\n",
       "\n",
       "  document.getElementById('hack2-output').textContent =\n",
       "    \"Frequency count:\\n\" + JSON.stringify(frequency, null, 2);\n",
       "</script>\n"
      ],
      "text/plain": [
       "<IPython.core.display.HTML object>"
      ]
     },
     "metadata": {},
     "output_type": "display_data"
    }
   ],
   "source": [
    "%%html\n",
    "<div id=\"hack2-output\"></div>\n",
    "<script>\n",
    "  const items = [\"cat\", \"dog\", \"cat\", \"bird\", \"bird\", \"bird\"];\n",
    "  const frequency = {};\n",
    "\n",
    "  for (const item of items) {\n",
    "    if (frequency[item]) {\n",
    "      frequency[item]++;\n",
    "    } else {\n",
    "      frequency[item] = 1;\n",
    "    }\n",
    "  }\n",
    "\n",
    "  document.getElementById('hack2-output').textContent =\n",
    "    \"Frequency count:\\n\" + JSON.stringify(frequency, null, 2);\n",
    "</script>"
   ]
  },
  {
   "cell_type": "markdown",
   "id": "800ed729",
   "metadata": {},
   "source": [
    "### Hack 3 – Keep Only Evens\n",
    "\n",
    "Make a list of numbers. Write code to create a new list with only even numbers."
   ]
  },
  {
   "cell_type": "code",
   "execution_count": 4,
   "id": "576a9627",
   "metadata": {
    "vscode": {
     "languageId": "html"
    }
   },
   "outputs": [
    {
     "data": {
      "text/html": [
       "<div id=\"hack3-output\"></div>\n",
       "<script>\n",
       "  window.onload = () => {\n",
       "    const numbers = [3, 8, 5, 12, 7, 9, 13, 31, 66, 18];\n",
       "    const evenNumbers = numbers.filter(n => n % 2 === 0);\n",
       "    document.getElementById(\"hack3-output\").textContent =\n",
       "      \"Even numbers: \" + evenNumbers.join(\", \");\n",
       "  };\n",
       "</script>\n"
      ],
      "text/plain": [
       "<IPython.core.display.HTML object>"
      ]
     },
     "metadata": {},
     "output_type": "display_data"
    }
   ],
   "source": [
    "%%html\n",
    "<div id=\"hack3-output\"></div>\n",
    "<script>\n",
    "  window.onload = () => {\n",
    "    const numbers = [3, 8, 5, 12, 7, 9, 13, 31, 66, 18];\n",
    "    const evenNumbers = numbers.filter(n => n % 2 === 0);\n",
    "    document.getElementById(\"hack3-output\").textContent =\n",
    "      \"Even numbers: \" + evenNumbers.join(\", \");\n",
    "  };\n",
    "</script>\n"
   ]
  }
 ],
 "metadata": {
  "kernelspec": {
   "display_name": "venv",
   "language": "python",
   "name": "python3"
  },
  "language_info": {
   "codemirror_mode": {
    "name": "ipython",
    "version": 3
   },
   "file_extension": ".py",
   "mimetype": "text/x-python",
   "name": "python",
   "nbconvert_exporter": "python",
   "pygments_lexer": "ipython3",
   "version": "3.11.5"
  }
 },
 "nbformat": 4,
 "nbformat_minor": 5
}
